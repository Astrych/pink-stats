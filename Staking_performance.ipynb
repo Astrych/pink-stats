{
 "cells": [
  {
   "cell_type": "code",
   "execution_count": 1,
   "metadata": {},
   "outputs": [],
   "source": [
    "import pandas as pd\n",
    "import matplotlib.pyplot as plt\n",
    "import numpy as np\n",
    "import csv\n",
    "\n",
    "%matplotlib inline"
   ]
  },
  {
   "cell_type": "code",
   "execution_count": 2,
   "metadata": {},
   "outputs": [],
   "source": [
    "def read_staking_csv(filename):\n",
    "    ifile = open(filename, \"r\")\n",
    "    reader = csv.reader(ifile, delimiter=\",\", quoting=csv.QUOTE_NONNUMERIC)\n",
    "\n",
    "    stakes = []\n",
    "    weights = []\n",
    "\n",
    "    for index, row in enumerate(reader):\n",
    "        if index == 0:\n",
    "            stakes.extend(row)\n",
    "        if index == 1:\n",
    "            weights.extend(row)\n",
    "\n",
    "    ifile.close()\n",
    "    return stakes, weights"
   ]
  },
  {
   "cell_type": "code",
   "execution_count": 3,
   "metadata": {},
   "outputs": [],
   "source": [
    "pos_stakes, pos_weights = read_staking_csv(\"csvs/staking_pos_performance_file.csv\")\n",
    "fpos_stakes, fpos_weights = read_staking_csv(\"csvs/staking_fpos_performance_file.csv\")"
   ]
  },
  {
   "cell_type": "code",
   "execution_count": 4,
   "metadata": {},
   "outputs": [],
   "source": [
    "pos_hist, pos_bins = np.histogram(pos_stakes, bins=100)"
   ]
  }
 ],
 "metadata": {
  "kernelspec": {
   "display_name": "Python 3",
   "language": "python",
   "name": "python3"
  },
  "language_info": {
   "codemirror_mode": {
    "name": "ipython",
    "version": 3
   },
   "file_extension": ".py",
   "mimetype": "text/x-python",
   "name": "python",
   "nbconvert_exporter": "python",
   "pygments_lexer": "ipython3",
   "version": "3.5.2"
  }
 },
 "nbformat": 4,
 "nbformat_minor": 2
}
